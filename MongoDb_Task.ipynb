{
 "cells": [
  {
   "cell_type": "code",
   "execution_count": 1,
   "id": "4b611edc",
   "metadata": {},
   "outputs": [],
   "source": [
    "# import module \n",
    "from mongo_utils import MongoDbTask"
   ]
  },
  {
   "cell_type": "code",
   "execution_count": 2,
   "id": "116d2626",
   "metadata": {},
   "outputs": [],
   "source": [
    "# Create object of class MongoDbTask by passsing username & password\n",
    "mongo_obj = MongoDbTask('mongodb','mongodb')"
   ]
  },
  {
   "cell_type": "markdown",
   "id": "a1931348",
   "metadata": {},
   "source": [
    "### Check if database present or not"
   ]
  },
  {
   "cell_type": "code",
   "execution_count": 3,
   "id": "eb6963d3",
   "metadata": {},
   "outputs": [
    {
     "name": "stdout",
     "output_type": "stream",
     "text": [
      "False\n"
     ]
    }
   ],
   "source": [
    "print(mongo_obj.isDatabasePresent('mongodb_nanotube'))"
   ]
  },
  {
   "cell_type": "markdown",
   "id": "52474dc6",
   "metadata": {},
   "source": [
    "### Create database "
   ]
  },
  {
   "cell_type": "code",
   "execution_count": 4,
   "id": "49f808d1",
   "metadata": {},
   "outputs": [
    {
     "name": "stdout",
     "output_type": "stream",
     "text": [
      "mongodb_nanotube created successfully!\n"
     ]
    }
   ],
   "source": [
    "print(mongo_obj.createDatabase('mongodb_nanotube'))"
   ]
  },
  {
   "cell_type": "markdown",
   "id": "b890a567",
   "metadata": {},
   "source": [
    "### Show list of databases"
   ]
  },
  {
   "cell_type": "code",
   "execution_count": 5,
   "id": "47aa314f",
   "metadata": {},
   "outputs": [
    {
     "name": "stdout",
     "output_type": "stream",
     "text": [
      "['mongoDbTask', 'satya', 'admin', 'local']\n"
     ]
    }
   ],
   "source": [
    "print(mongo_obj.listDatabases())"
   ]
  },
  {
   "cell_type": "markdown",
   "id": "9a369110",
   "metadata": {},
   "source": [
    "### Check if Collection present or not "
   ]
  },
  {
   "cell_type": "code",
   "execution_count": 6,
   "id": "91a86c18",
   "metadata": {},
   "outputs": [
    {
     "name": "stdout",
     "output_type": "stream",
     "text": [
      "None\n"
     ]
    }
   ],
   "source": [
    "print(mongo_obj.isCollectionPresent('mongodb_nanotube','carbon_nanotube'))"
   ]
  },
  {
   "cell_type": "markdown",
   "id": "ae53c82a",
   "metadata": {},
   "source": [
    "### Create collection"
   ]
  },
  {
   "cell_type": "code",
   "execution_count": 7,
   "id": "a2031603",
   "metadata": {},
   "outputs": [
    {
     "name": "stdout",
     "output_type": "stream",
     "text": [
      "carbon_nanotube created successfully!\n"
     ]
    }
   ],
   "source": [
    "print(mongo_obj.createCollection('mongodb_nanotube','carbon_nanotube'))"
   ]
  },
  {
   "cell_type": "code",
   "execution_count": 8,
   "id": "4a86e8e9",
   "metadata": {},
   "outputs": [],
   "source": [
    "dict1 = {\n",
    "    \"Chiral indice n\" : \"2\",\n",
    "    \"Chiral indice m\" : \"1\",\n",
    "    \"Initial atomic coordinate u\" : \"0,679005\",\n",
    "    \"Initial atomic coordinate v\" : \"0,701318\",\n",
    "    \"Initial atomic coordinate w\" : \"0,017033\",\n",
    "    \"Calculated atomic coordinates u\" : \"0,721039\",\n",
    "    \"Calculated atomic coordinates v\" : \"0,730232\",\n",
    "    \"Calculated atomic coordinates w\" : \"0,017014\"\n",
    "}"
   ]
  },
  {
   "cell_type": "markdown",
   "id": "1aa12190",
   "metadata": {},
   "source": [
    "### Insert one document"
   ]
  },
  {
   "cell_type": "code",
   "execution_count": 10,
   "id": "c070003c",
   "metadata": {},
   "outputs": [
    {
     "name": "stdout",
     "output_type": "stream",
     "text": [
      "Data inserted successfully in carbon_nanotube\n"
     ]
    }
   ],
   "source": [
    "print(mongo_obj.insertOneDocument('mongodb_nanotube','carbon_nanotube', dict1))"
   ]
  },
  {
   "cell_type": "code",
   "execution_count": 18,
   "id": "54d59dce",
   "metadata": {},
   "outputs": [
    {
     "name": "stdout",
     "output_type": "stream",
     "text": [
      "{'_id': ObjectId('62371ba04e83550aeea18a76'), 'Chiral indice n': '2', 'Chiral indice m': '1', 'Initial atomic coordinate u': '0,679005', 'Initial atomic coordinate v': '0,701318', 'Initial atomic coordinate w': '0,017033', 'Calculated atomic coordinates u': '0,721039', 'Calculated atomic coordinates v': '0,730232', 'Calculated atomic coordinates w': '0,017014'}\n"
     ]
    }
   ],
   "source": [
    "data = mongo_obj.getRecords('mongodb_nanotube','carbon_nanotube',1)\n",
    "for i in data:\n",
    "    print(i)"
   ]
  },
  {
   "cell_type": "markdown",
   "id": "75db2ed5",
   "metadata": {},
   "source": [
    "### Insert MAny documents"
   ]
  },
  {
   "cell_type": "code",
   "execution_count": 13,
   "id": "c1aef9dc",
   "metadata": {},
   "outputs": [
    {
     "name": "stdout",
     "output_type": "stream",
     "text": [
      "Data inserted successfully in carbon_nanotube\n"
     ]
    }
   ],
   "source": [
    "print(mongo_obj.insertManyDocument('mongodb_nanotube','carbon_nanotube', list))"
   ]
  },
  {
   "cell_type": "code",
   "execution_count": 20,
   "id": "97da7c7c",
   "metadata": {},
   "outputs": [
    {
     "name": "stdout",
     "output_type": "stream",
     "text": [
      "{'_id': ObjectId('62371ba04e83550aeea18a76'), 'Chiral indice n': '2', 'Chiral indice m': '1', 'Initial atomic coordinate u': '0,679005', 'Initial atomic coordinate v': '0,701318', 'Initial atomic coordinate w': '0,017033', 'Calculated atomic coordinates u': '0,721039', 'Calculated atomic coordinates v': '0,730232', 'Calculated atomic coordinates w': '0,017014'}\n",
      "{'_id': ObjectId('62371c0d4e83550aeea18a78'), 'Chiral indice n': '2', 'Chiral indice m': '1', 'Initial atomic coordinate u': '0', 'Initial atomic coordinate v': '717298;0', 'Initial atomic coordinate w': '642129;0', 'Calculated atomic coordinates u': '231319;0', 'Calculated atomic coordinates v': '0,65675', 'Calculated atomic coordinates w': '0,232369'}\n",
      "{'_id': ObjectId('62371c0d4e83550aeea18a79'), 'Chiral indice n': '2', 'Chiral indice m': '1', 'Initial atomic coordinate u': '0,679005', 'Initial atomic coordinate v': '0,701318', 'Initial atomic coordinate w': '0,017033', 'Calculated atomic coordinates u': '0,721039', 'Calculated atomic coordinates v': '0,730232', 'Calculated atomic coordinates w': '0,017014'}\n"
     ]
    }
   ],
   "source": [
    "data = mongo_obj.getRecords('mongodb_nanotube','carbon_nanotube',3)\n",
    "for i in data:\n",
    "    print(i)"
   ]
  },
  {
   "cell_type": "markdown",
   "id": "3673481d",
   "metadata": {},
   "source": [
    "### Upload bulk amount of data "
   ]
  },
  {
   "cell_type": "code",
   "execution_count": 16,
   "id": "1c2ef91e",
   "metadata": {},
   "outputs": [
    {
     "name": "stdout",
     "output_type": "stream",
     "text": [
      "Uploaded successfully in collection=carbon_nanotube & database=mongodb_nanotube\n"
     ]
    }
   ],
   "source": [
    "print(mongo_obj.bulkUploadData('mongodb_nanotube','carbon_nanotube','carbon_nanotubes.csv'))"
   ]
  },
  {
   "cell_type": "markdown",
   "id": "16364f72",
   "metadata": {},
   "source": [
    "### Filter record based on a condition"
   ]
  },
  {
   "cell_type": "code",
   "execution_count": 14,
   "id": "3428005b",
   "metadata": {},
   "outputs": [
    {
     "name": "stdout",
     "output_type": "stream",
     "text": [
      "{'_id': ObjectId('62371eba4e83550aeea18a97'), 'Chiral indice n': '3', 'Chiral indice m': '1', 'Initial atomic coordinate u': '0,591598', 'Initial atomic coordinate v': '0,760361', 'Initial atomic coordinate w': '0,05909', \"Calculated atomic coordinates u'\": '0,59912', \"Calculated atomic coordinates v'\": '0,779052', \"Calculated atomic coordinates w'\": '0,058651'}\n",
      "{'_id': ObjectId('62371eba4e83550aeea18a98'), 'Chiral indice n': '3', 'Chiral indice m': '1', 'Initial atomic coordinate u': '0,24301', 'Initial atomic coordinate v': '0,424391', 'Initial atomic coordinate w': '0,020628', \"Calculated atomic coordinates u'\": '0,222068', \"Calculated atomic coordinates v'\": '0,414703', \"Calculated atomic coordinates w'\": '0,020882'}\n",
      "{'_id': ObjectId('62371eba4e83550aeea18a99'), 'Chiral indice n': '3', 'Chiral indice m': '1', 'Initial atomic coordinate u': '0,348135', 'Initial atomic coordinate v': '0,611237', 'Initial atomic coordinate w': '0,084731', \"Calculated atomic coordinates u'\": '0,337437', \"Calculated atomic coordinates v'\": '0,618899', \"Calculated atomic coordinates w'\": '0,085676'}\n",
      "<pymongo.cursor.Cursor object at 0x0000010D8EFCAB50>\n"
     ]
    }
   ],
   "source": [
    "condition={'Chiral indice n':{'$gt':'2'}}\n",
    "data = mongo_obj.filterRecords('mongodb_nanotube','carbon_nanotube',3,condition)\n",
    "print(data)"
   ]
  },
  {
   "cell_type": "markdown",
   "id": "f542be0f",
   "metadata": {},
   "source": [
    "### Update one record"
   ]
  },
  {
   "cell_type": "code",
   "execution_count": 20,
   "id": "d9433fea",
   "metadata": {},
   "outputs": [
    {
     "name": "stdout",
     "output_type": "stream",
     "text": [
      "Data updated successfully\n"
     ]
    }
   ],
   "source": [
    "present_data={'Chiral indice n': '2'}\n",
    "new_data={'Chiral indice m': '5'}\n",
    "print(mongo_obj.updateOneRecord('mongodb_nanotube','carbon_nanotube', present_data, new_data))"
   ]
  },
  {
   "cell_type": "code",
   "execution_count": 21,
   "id": "527786e5",
   "metadata": {},
   "outputs": [
    {
     "name": "stdout",
     "output_type": "stream",
     "text": [
      "{'_id': ObjectId('62371ba04e83550aeea18a76'), 'Chiral indice n': '2', 'Chiral indice m': '5', 'Initial atomic coordinate u': '0,679005', 'Initial atomic coordinate v': '0,701318', 'Initial atomic coordinate w': '0,017033', 'Calculated atomic coordinates u': '0,721039', 'Calculated atomic coordinates v': '0,730232', 'Calculated atomic coordinates w': '0,017014'}\n"
     ]
    }
   ],
   "source": [
    "data = mongo_obj.getRecords('mongodb_nanotube','carbon_nanotube',1)\n",
    "for i in data:\n",
    "    print(i)"
   ]
  },
  {
   "cell_type": "markdown",
   "id": "a827bff0",
   "metadata": {},
   "source": [
    "### Update many record"
   ]
  },
  {
   "cell_type": "code",
   "execution_count": 22,
   "id": "8a12d536",
   "metadata": {},
   "outputs": [
    {
     "name": "stdout",
     "output_type": "stream",
     "text": [
      "Data updated successfully\n"
     ]
    }
   ],
   "source": [
    "present_data={'Chiral indice n': '2'}\n",
    "new_data={'Chiral indice m': '7'}\n",
    "print(mongo_obj.updateAllRecords('mongodb_nanotube','carbon_nanotube', present_data, new_data))"
   ]
  },
  {
   "cell_type": "code",
   "execution_count": 23,
   "id": "8e8ae399",
   "metadata": {},
   "outputs": [
    {
     "name": "stdout",
     "output_type": "stream",
     "text": [
      "{'_id': ObjectId('62371ba04e83550aeea18a76'), 'Chiral indice n': '2', 'Chiral indice m': '7', 'Initial atomic coordinate u': '0,679005', 'Initial atomic coordinate v': '0,701318', 'Initial atomic coordinate w': '0,017033', 'Calculated atomic coordinates u': '0,721039', 'Calculated atomic coordinates v': '0,730232', 'Calculated atomic coordinates w': '0,017014'}\n",
      "{'_id': ObjectId('62371c0d4e83550aeea18a78'), 'Chiral indice n': '2', 'Chiral indice m': '7', 'Initial atomic coordinate u': '0', 'Initial atomic coordinate v': '717298;0', 'Initial atomic coordinate w': '642129;0', 'Calculated atomic coordinates u': '231319;0', 'Calculated atomic coordinates v': '0,65675', 'Calculated atomic coordinates w': '0,232369'}\n",
      "{'_id': ObjectId('62371c0d4e83550aeea18a79'), 'Chiral indice n': '2', 'Chiral indice m': '7', 'Initial atomic coordinate u': '0,679005', 'Initial atomic coordinate v': '0,701318', 'Initial atomic coordinate w': '0,017033', 'Calculated atomic coordinates u': '0,721039', 'Calculated atomic coordinates v': '0,730232', 'Calculated atomic coordinates w': '0,017014'}\n"
     ]
    }
   ],
   "source": [
    "data = mongo_obj.getRecords('mongodb_nanotube','carbon_nanotube',3)\n",
    "for i in data:\n",
    "    print(i)"
   ]
  },
  {
   "cell_type": "markdown",
   "id": "68465d72",
   "metadata": {},
   "source": [
    "### Delete one record"
   ]
  },
  {
   "cell_type": "code",
   "execution_count": 25,
   "id": "d090fe7f",
   "metadata": {},
   "outputs": [
    {
     "name": "stdout",
     "output_type": "stream",
     "text": [
      "One record based on condition {'chiral indice n': '2'} deleted\n"
     ]
    }
   ],
   "source": [
    "condition = {'chiral indice n': '2'}\n",
    "print(mongo_obj.deleteOneRecord('mongodb_nanotube','carbon_nanotube',condition))"
   ]
  },
  {
   "cell_type": "markdown",
   "id": "d1ab92f1",
   "metadata": {},
   "source": [
    "### Delete All records"
   ]
  },
  {
   "cell_type": "code",
   "execution_count": 27,
   "id": "8db62772",
   "metadata": {},
   "outputs": [
    {
     "name": "stdout",
     "output_type": "stream",
     "text": [
      "All records based on condition {'chiral indice n': '2'} deleted\n"
     ]
    }
   ],
   "source": [
    "condition = {'chiral indice n': '2'}\n",
    "print(mongo_obj.deleteAllRecords('mongodb_nanotube','carbon_nanotube',condition))"
   ]
  },
  {
   "cell_type": "markdown",
   "id": "09fb0589",
   "metadata": {},
   "source": [
    "### Drop Collection"
   ]
  },
  {
   "cell_type": "code",
   "execution_count": 30,
   "id": "a69f4f8e",
   "metadata": {},
   "outputs": [
    {
     "name": "stdout",
     "output_type": "stream",
     "text": [
      "Collection:carbon_nanotube of Database:mongoDbTask dropped successfully\n"
     ]
    }
   ],
   "source": [
    "print(mongo_obj.deleteCollection('mongoDbTask','carbon_nanotube'))"
   ]
  },
  {
   "cell_type": "code",
   "execution_count": null,
   "id": "951b43c4",
   "metadata": {},
   "outputs": [],
   "source": []
  }
 ],
 "metadata": {
  "kernelspec": {
   "display_name": "Python 3",
   "language": "python",
   "name": "python3"
  },
  "language_info": {
   "codemirror_mode": {
    "name": "ipython",
    "version": 3
   },
   "file_extension": ".py",
   "mimetype": "text/x-python",
   "name": "python",
   "nbconvert_exporter": "python",
   "pygments_lexer": "ipython3",
   "version": "3.8.8"
  }
 },
 "nbformat": 4,
 "nbformat_minor": 5
}
